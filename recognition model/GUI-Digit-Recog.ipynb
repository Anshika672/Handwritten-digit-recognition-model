{
 "cells": [
  {
   "cell_type": "code",
   "execution_count": 1,
   "id": "71f3af96-73eb-4891-825d-f7de10d2af15",
   "metadata": {},
   "outputs": [],
   "source": [
    "##HANDWRITTEN DIGIT RECOGNITION"
   ]
  },
  {
   "cell_type": "code",
   "execution_count": 2,
   "id": "1952e07a-6ba0-4133-9bb9-0504d9950cd7",
   "metadata": {},
   "outputs": [
    {
     "data": {
      "text/plain": [
       "''"
      ]
     },
     "execution_count": 2,
     "metadata": {},
     "output_type": "execute_result"
    }
   ],
   "source": [
    "import tkinter as tk\n",
    "from tkinter import *\n",
    "from tkinter import messagebox\n",
    "window=tk.Tk()\n",
    "window.title(\"Handwritten Digit Recognition\")\n",
    "  "
   ]
  },
  {
   "cell_type": "code",
   "execution_count": 3,
   "id": "e5ba68ee-be39-45cb-8e88-6828a457d6a0",
   "metadata": {},
   "outputs": [],
   "source": [
    "##SCREEN CAPTURING FOR DATASET"
   ]
  },
  {
   "cell_type": "code",
   "execution_count": 4,
   "id": "2878ea92-92ca-4a0b-a43e-25c9ce732e83",
   "metadata": {},
   "outputs": [],
   "source": [
    "\n",
    "l1=tk.Label(window,text=\"Digit:\",font=('Georgia',15))\n",
    "l1.place(x=5,y=0)\n",
    "  \n",
    "t1=tk.Entry(window,width=10, border=5)\n",
    "t1.place(x=90, y=3)\n",
    "#this funtion will automatically open one note n capture screen\n",
    "def screen_capture():\n",
    "    def one_time():\n",
    "       import pyscreenshot as ImageGrab\n",
    "       import time\n",
    "       import os\n",
    "       os.startfile(\"C:/Users/jaisw/OneDrive/Documents/OneNote Notebooks/digit-samples.one\")\n",
    "       s1=t1.get()\n",
    "       os.chdir(\"C:/Users/jaisw/OneDrive/Desktop/PythonVS/recognition model/captured_images\")\n",
    "       os.mkdir(s1)\n",
    "       os.chdir(\"C:/Users/jaisw/OneDrive/Desktop/PythonVS/recognition model/\")\n",
    "      \n",
    "       images_folder=\"C:/Users/jaisw/OneDrive/Desktop/PythonVS/recognition model/captured_images/\"+s1+\"/\"\n",
    "        #give time to choose color and bg\n",
    "       time.sleep(15)\n",
    "       for i in range(0,40):\n",
    "           time.sleep(5)\n",
    "           im=ImageGrab.grab(bbox=(60,170,400,550)) \n",
    "           print(\"saved......\",i)\n",
    "           im.save(images_folder+str(i)+'.png')\n",
    "           print(\"clear screen now and redraw now........\")\n",
    "       messagebox.showinfo(\"Result\",\"Capturing screen is completed!!\")\n",
    "    \n",
    "b1=tk.Button(window,text=\"1. Open OneNote and capture the screen\", font=('georgia',15),bg=\"white\",fg=\"black\",command=screen_capture)\n",
    "b1.place(x=5, y=50)\n",
    "  \n"
   ]
  },
  {
   "cell_type": "code",
   "execution_count": 5,
   "id": "7652f6fb-56e2-4324-b969-dbf6c9e01df5",
   "metadata": {},
   "outputs": [],
   "source": [
    "##GENERATE DATASET"
   ]
  },
  {
   "cell_type": "code",
   "execution_count": 6,
   "id": "a7135466-404f-4d42-8313-04d7d7e375e6",
   "metadata": {},
   "outputs": [],
   "source": [
    "def generate_dataset():\n",
    "   import cv2\n",
    "   import csv\n",
    "   import glob\n",
    "  \n",
    "   header  =[\"label\"]\n",
    "   for i in range(0,784):\n",
    "       header.append(\"pixel\"+str(i))\n",
    "   with open('dataset.csv', 'a') as f:\n",
    "       writer = csv.writer(f)\n",
    "       writer.writerow(header)\n",
    "  \n",
    "   for label in range(10):\n",
    "       dirList = glob.glob(\"captured_images/\"+str(label)+\"/*.png\")\n",
    "  \n",
    "       for img_path in dirList:\n",
    "           im= cv2.imread(img_path)\n",
    "           im_gray = cv2.cvtColor(im,cv2.COLOR_BGR2GRAY)\n",
    "           im_gray = cv2.GaussianBlur(im_gray,(15,15), 0)\n",
    "           roi= cv2.resize(im_gray,(28,28), interpolation=cv2.INTER_AREA)\n",
    "  \n",
    "           data=[]\n",
    "           data.append(label)\n",
    "           rows, cols = roi.shape\n",
    "  \n",
    "           \n",
    "           for i in range(rows):\n",
    "               for j in range(cols):\n",
    "                   k =roi[i,j]\n",
    "                   if k>100:\n",
    "                       k=1\n",
    "                   else:\n",
    "                       k=0\n",
    "                   data.append(k)\n",
    "           with open('dataset.csv', 'a') as f:\n",
    "               writer = csv.writer(f)\n",
    "               writer.writerow(data)\n",
    "   messagebox.showinfo(\"Result\",\"Generating dataset is completed!!\")\n",
    "    \n",
    "b2=tk.Button(window,text=\"2. Generate dataset\", font=('Georgia',15),bg=\"white\",fg=\"black\",command=generate_dataset)\n",
    "b2.place(x=5, y=100)\n",
    "  \n"
   ]
  },
  {
   "cell_type": "code",
   "execution_count": 7,
   "id": "f16974f2-6405-4db7-a43e-41861c954ada",
   "metadata": {},
   "outputs": [],
   "source": [
    "##SPLIT DATA FOR TRAINING AND TESTING AND CHECK ACCURACY"
   ]
  },
  {
   "cell_type": "code",
   "execution_count": 8,
   "id": "80d5c8d2-b019-4cf3-8813-2830ce9abb5c",
   "metadata": {},
   "outputs": [],
   "source": [
    "def train_save_accuracy():\n",
    "   import pandas as pd\n",
    "   from sklearn.utils import shuffle\n",
    "   data  =pd.read_csv('dataset.csv')\n",
    "   data=shuffle(data)\n",
    "   X = data.drop([\"label\"],axis=1)\n",
    "   Y= data[\"label\"]\n",
    "   from sklearn.model_selection import train_test_split\n",
    "   train_x,test_x,train_y,test_y = train_test_split(X,Y, test_size = 0.2)\n",
    "   import joblib\n",
    "   from sklearn.svm import SVC\n",
    "   classifier=SVC(kernel=\"linear\", random_state=6)\n",
    "   classifier.fit(train_x,train_y)\n",
    "   joblib.dump(classifier, \"model/digit_recognizer\")\n",
    "   from sklearn import metrics\n",
    "   prediction=classifier.predict(test_x)\n",
    "   acc=metrics.accuracy_score(prediction, test_y)\n",
    "   messagebox.showinfo(\"Result\",f\"Your accuracy is {acc}\")\n",
    "    \n",
    "b3=tk.Button(window,text=\"3. Train the model, save it and calculate accuracy\", font=('Georgia',15),bg=\"white\",fg=\"black\",command=train_save_accuracy)\n",
    "b3.place(x=5, y=150)\n",
    "  \n"
   ]
  },
  {
   "cell_type": "code",
   "execution_count": 9,
   "id": "dd4f93d6-2b4e-4580-a689-3db52767af74",
   "metadata": {},
   "outputs": [],
   "source": [
    "##LIVE PREDICTION USING THIS MODEL"
   ]
  },
  {
   "cell_type": "code",
   "execution_count": 10,
   "id": "78af50ed-767b-4a75-ba0f-2c317b39a1cb",
   "metadata": {},
   "outputs": [
    {
     "name": "stderr",
     "output_type": "stream",
     "text": [
      "Exception in Tkinter callback\n",
      "Traceback (most recent call last):\n",
      "  File \"c:\\Users\\jaisw\\AppData\\Local\\Programs\\Python\\Python311\\Lib\\tkinter\\__init__.py\", line 1948, in __call__\n",
      "    return self.func(*args)\n",
      "           ^^^^^^^^^^^^^^^^\n",
      "  File \"C:\\Users\\jaisw\\AppData\\Local\\Temp\\ipykernel_1012\\918501805.py\", line 12, in prediction\n",
      "    time.sleep(15)\n",
      "KeyboardInterrupt\n"
     ]
    }
   ],
   "source": [
    "def prediction():\n",
    "   import joblib\n",
    "   import cv2\n",
    "   import numpy as np #pip install numpy\n",
    "   import time\n",
    "   import pyscreenshot as ImageGrab\n",
    "   import os\n",
    "   os.startfile(\"C:/Users/jaisw/OneDrive/Documents/OneNote Notebooks/digit-samples.one\")\n",
    "    \n",
    "   model=joblib.load(\"model/digit_recognizer\")\n",
    "   images_folder=\"img/\"\n",
    "   time.sleep(15)\n",
    "   while True:\n",
    "       img=ImageGrab.grab(bbox=(60,170,400,500))\n",
    "  \n",
    "       img.save(images_folder+\"img.png\")\n",
    "       im = cv2.imread(images_folder+\"img.png\")\n",
    "       im_gray = cv2.cvtColor(im,cv2.COLOR_BGR2GRAY)\n",
    "       im_gray  =cv2.GaussianBlur(im_gray, (15,15), 0)\n",
    "  \n",
    "       #Threshold the image\n",
    "       ret, im_th = cv2.threshold(im_gray,100, 255, cv2.THRESH_BINARY)\n",
    "       roi = cv2.resize(im_th, (28,28), interpolation  =cv2.INTER_AREA)\n",
    "  \n",
    "       rows,cols=roi.shape\n",
    "  \n",
    "       X = []\n",
    "  \n",
    "       ##  Fill the data array with pixels one by one.\n",
    "       for i in range(rows):\n",
    "           for j in range(cols):\n",
    "               k = roi[i,j]\n",
    "               if k>100:\n",
    "                   k=1\n",
    "               else:\n",
    "                   k=0\n",
    "               X.append(k)\n",
    "  \n",
    "       predictions  =model.predict([X])\n",
    "       print(\"Prediction:\",predictions[0])\n",
    "       cv2.putText(im, \"Prediction is: \"+str(predictions[0]), (20,20), 0, 0.8,(0,255,0),2,cv2.LINE_AA)\n",
    "  \n",
    "       cv2.startWindowThread()\n",
    "       cv2.namedWindow(\"Result\")\n",
    "       cv2.imshow(\"Result\",im)\n",
    "       cv2.waitKey(10000)\n",
    "       if cv2.waitKey(1)==13:\n",
    "           break\n",
    "   cv2.destroyAllWindows()\n",
    "    \n",
    "b4=tk.Button(window,text=\"4. Live prediction\", font=('Georgia',15),bg=\"white\",fg=\"black\",command=prediction)\n",
    "b4.place(x=5, y=200)\n",
    "  \n",
    "window.geometry(\"600x300\")\n",
    "window.mainloop()"
   ]
  }
 ],
 "metadata": {
  "kernelspec": {
   "display_name": "Python 3 (ipykernel)",
   "language": "python",
   "name": "python3"
  },
  "language_info": {
   "codemirror_mode": {
    "name": "ipython",
    "version": 3
   },
   "file_extension": ".py",
   "mimetype": "text/x-python",
   "name": "python",
   "nbconvert_exporter": "python",
   "pygments_lexer": "ipython3",
   "version": "3.11.5"
  }
 },
 "nbformat": 4,
 "nbformat_minor": 5
}
